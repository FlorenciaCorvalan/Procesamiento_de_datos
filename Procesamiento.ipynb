{
 "cells": [
  {
   "cell_type": "code",
   "execution_count": 1,
   "id": "094a2fa6",
   "metadata": {},
   "outputs": [
    {
     "name": "stdout",
     "output_type": "stream",
     "text": [
      "22\n",
      "9\n"
     ]
    }
   ],
   "source": [
    "#Para automatizar el proceso se configura el nombre del archivo dado el mes y el año actual\n",
    "import datetime \n",
    "    \n",
    "current_time = datetime.datetime.now() \n",
    "anio=(current_time.year)-2000\n",
    "mes=current_time.month-2\n",
    "\n",
    "print (anio)      \n",
    "print (mes) \n",
    "     "
   ]
  },
  {
   "cell_type": "code",
   "execution_count": 2,
   "id": "5fcdbc78",
   "metadata": {},
   "outputs": [],
   "source": [
    "# Importación de librerías\n",
    "import pandas as pd\n",
    "import numpy as np"
   ]
  },
  {
   "cell_type": "code",
   "execution_count": 3,
   "id": "c48bd309",
   "metadata": {},
   "outputs": [
    {
     "name": "stdout",
     "output_type": "stream",
     "text": [
      "'ACARA 9-22.csv'\r\n"
     ]
    }
   ],
   "source": [
    "!ls Documentos/FileServer"
   ]
  },
  {
   "cell_type": "code",
   "execution_count": 4,
   "id": "d690fa77",
   "metadata": {},
   "outputs": [],
   "source": [
    "# Se asume que el archivo es dejado en una ubicación específica, como por ejemplo FileServer (podría ser un File System)\n",
    "archivo = ('Documentos/FileServer/ACARA '+str(mes)+'-'+str(anio)+'.csv')"
   ]
  },
  {
   "cell_type": "code",
   "execution_count": 5,
   "id": "820a9680",
   "metadata": {},
   "outputs": [],
   "source": [
    "# Se carga csv\n",
    "df = pd.read_csv(archivo, sep=';')"
   ]
  },
  {
   "cell_type": "code",
   "execution_count": 6,
   "id": "5ae52a1d",
   "metadata": {},
   "outputs": [
    {
     "data": {
      "text/plain": [
       "Index(['mtm', '2022', '2021', '2020', '2019', '2018', '2017', '2016', '2015',\n",
       "       '2014', '2013', '2012', '2011', '2010', '2009', '2008', '2007', '2006',\n",
       "       '2005', '2004', '2003', '2002', '2001', '2000', '1999', '1998'],\n",
       "      dtype='object')"
      ]
     },
     "execution_count": 6,
     "metadata": {},
     "output_type": "execute_result"
    }
   ],
   "source": [
    "#Identificación de las columnas\n",
    "df.columns"
   ]
  },
  {
   "cell_type": "code",
   "execution_count": 7,
   "id": "c26fa06e",
   "metadata": {},
   "outputs": [
    {
     "data": {
      "text/html": [
       "<div>\n",
       "<style scoped>\n",
       "    .dataframe tbody tr th:only-of-type {\n",
       "        vertical-align: middle;\n",
       "    }\n",
       "\n",
       "    .dataframe tbody tr th {\n",
       "        vertical-align: top;\n",
       "    }\n",
       "\n",
       "    .dataframe thead th {\n",
       "        text-align: right;\n",
       "    }\n",
       "</style>\n",
       "<table border=\"1\" class=\"dataframe\">\n",
       "  <thead>\n",
       "    <tr style=\"text-align: right;\">\n",
       "      <th></th>\n",
       "      <th>mtm</th>\n",
       "      <th>2022</th>\n",
       "      <th>2021</th>\n",
       "      <th>2020</th>\n",
       "      <th>2019</th>\n",
       "      <th>2018</th>\n",
       "      <th>2017</th>\n",
       "      <th>2016</th>\n",
       "      <th>2015</th>\n",
       "      <th>2014</th>\n",
       "      <th>...</th>\n",
       "      <th>2007</th>\n",
       "      <th>2006</th>\n",
       "      <th>2005</th>\n",
       "      <th>2004</th>\n",
       "      <th>2003</th>\n",
       "      <th>2002</th>\n",
       "      <th>2001</th>\n",
       "      <th>2000</th>\n",
       "      <th>1999</th>\n",
       "      <th>1998</th>\n",
       "    </tr>\n",
       "  </thead>\n",
       "  <tbody>\n",
       "    <tr>\n",
       "      <th>19902</th>\n",
       "      <td>00507CH</td>\n",
       "      <td>NaN</td>\n",
       "      <td>NaN</td>\n",
       "      <td>NaN</td>\n",
       "      <td>NaN</td>\n",
       "      <td>160000.0</td>\n",
       "      <td>148800.0</td>\n",
       "      <td>138400.0</td>\n",
       "      <td>128700.0</td>\n",
       "      <td>119700.0</td>\n",
       "      <td>...</td>\n",
       "      <td>NaN</td>\n",
       "      <td>NaN</td>\n",
       "      <td>NaN</td>\n",
       "      <td>NaN</td>\n",
       "      <td>NaN</td>\n",
       "      <td>NaN</td>\n",
       "      <td>NaN</td>\n",
       "      <td>NaN</td>\n",
       "      <td>NaN</td>\n",
       "      <td>NaN</td>\n",
       "    </tr>\n",
       "    <tr>\n",
       "      <th>19903</th>\n",
       "      <td>20519022</td>\n",
       "      <td>NaN</td>\n",
       "      <td>NaN</td>\n",
       "      <td>NaN</td>\n",
       "      <td>NaN</td>\n",
       "      <td>NaN</td>\n",
       "      <td>NaN</td>\n",
       "      <td>NaN</td>\n",
       "      <td>110000.0</td>\n",
       "      <td>102300.0</td>\n",
       "      <td>...</td>\n",
       "      <td>61600.0</td>\n",
       "      <td>57200.0</td>\n",
       "      <td>53200.0</td>\n",
       "      <td>NaN</td>\n",
       "      <td>NaN</td>\n",
       "      <td>NaN</td>\n",
       "      <td>NaN</td>\n",
       "      <td>NaN</td>\n",
       "      <td>NaN</td>\n",
       "      <td>NaN</td>\n",
       "    </tr>\n",
       "    <tr>\n",
       "      <th>19904</th>\n",
       "      <td>20519079</td>\n",
       "      <td>NaN</td>\n",
       "      <td>NaN</td>\n",
       "      <td>NaN</td>\n",
       "      <td>NaN</td>\n",
       "      <td>NaN</td>\n",
       "      <td>NaN</td>\n",
       "      <td>NaN</td>\n",
       "      <td>110000.0</td>\n",
       "      <td>102300.0</td>\n",
       "      <td>...</td>\n",
       "      <td>61600.0</td>\n",
       "      <td>57200.0</td>\n",
       "      <td>53200.0</td>\n",
       "      <td>NaN</td>\n",
       "      <td>NaN</td>\n",
       "      <td>NaN</td>\n",
       "      <td>NaN</td>\n",
       "      <td>NaN</td>\n",
       "      <td>NaN</td>\n",
       "      <td>NaN</td>\n",
       "    </tr>\n",
       "    <tr>\n",
       "      <th>19905</th>\n",
       "      <td>20519076</td>\n",
       "      <td>NaN</td>\n",
       "      <td>NaN</td>\n",
       "      <td>NaN</td>\n",
       "      <td>NaN</td>\n",
       "      <td>NaN</td>\n",
       "      <td>NaN</td>\n",
       "      <td>NaN</td>\n",
       "      <td>110000.0</td>\n",
       "      <td>102300.0</td>\n",
       "      <td>...</td>\n",
       "      <td>NaN</td>\n",
       "      <td>NaN</td>\n",
       "      <td>NaN</td>\n",
       "      <td>NaN</td>\n",
       "      <td>NaN</td>\n",
       "      <td>NaN</td>\n",
       "      <td>NaN</td>\n",
       "      <td>NaN</td>\n",
       "      <td>NaN</td>\n",
       "      <td>NaN</td>\n",
       "    </tr>\n",
       "    <tr>\n",
       "      <th>19906</th>\n",
       "      <td>20519069</td>\n",
       "      <td>NaN</td>\n",
       "      <td>NaN</td>\n",
       "      <td>NaN</td>\n",
       "      <td>NaN</td>\n",
       "      <td>160000.0</td>\n",
       "      <td>148800.0</td>\n",
       "      <td>138400.0</td>\n",
       "      <td>128700.0</td>\n",
       "      <td>119700.0</td>\n",
       "      <td>...</td>\n",
       "      <td>NaN</td>\n",
       "      <td>NaN</td>\n",
       "      <td>NaN</td>\n",
       "      <td>NaN</td>\n",
       "      <td>NaN</td>\n",
       "      <td>NaN</td>\n",
       "      <td>NaN</td>\n",
       "      <td>NaN</td>\n",
       "      <td>NaN</td>\n",
       "      <td>NaN</td>\n",
       "    </tr>\n",
       "  </tbody>\n",
       "</table>\n",
       "<p>5 rows × 26 columns</p>\n",
       "</div>"
      ],
      "text/plain": [
       "            mtm  2022  2021  2020  2019      2018      2017      2016  \\\n",
       "19902   00507CH   NaN   NaN   NaN   NaN  160000.0  148800.0  138400.0   \n",
       "19903  20519022   NaN   NaN   NaN   NaN       NaN       NaN       NaN   \n",
       "19904  20519079   NaN   NaN   NaN   NaN       NaN       NaN       NaN   \n",
       "19905  20519076   NaN   NaN   NaN   NaN       NaN       NaN       NaN   \n",
       "19906  20519069   NaN   NaN   NaN   NaN  160000.0  148800.0  138400.0   \n",
       "\n",
       "           2015      2014  ...     2007     2006     2005  2004  2003  2002  \\\n",
       "19902  128700.0  119700.0  ...      NaN      NaN      NaN   NaN   NaN   NaN   \n",
       "19903  110000.0  102300.0  ...  61600.0  57200.0  53200.0   NaN   NaN   NaN   \n",
       "19904  110000.0  102300.0  ...  61600.0  57200.0  53200.0   NaN   NaN   NaN   \n",
       "19905  110000.0  102300.0  ...      NaN      NaN      NaN   NaN   NaN   NaN   \n",
       "19906  128700.0  119700.0  ...      NaN      NaN      NaN   NaN   NaN   NaN   \n",
       "\n",
       "       2001  2000  1999  1998  \n",
       "19902   NaN   NaN   NaN   NaN  \n",
       "19903   NaN   NaN   NaN   NaN  \n",
       "19904   NaN   NaN   NaN   NaN  \n",
       "19905   NaN   NaN   NaN   NaN  \n",
       "19906   NaN   NaN   NaN   NaN  \n",
       "\n",
       "[5 rows x 26 columns]"
      ]
     },
     "execution_count": 7,
     "metadata": {},
     "output_type": "execute_result"
    }
   ],
   "source": [
    "# últimas 5 filas\n",
    "df.tail(5)"
   ]
  },
  {
   "cell_type": "code",
   "execution_count": 8,
   "id": "cc8fe811",
   "metadata": {},
   "outputs": [],
   "source": [
    "#Se transforma el dataframe\n",
    "df_prefinal = df.melt(id_vars=[\"mtm\"], value_name='precio', var_name='anio').sort_values(by=[\"mtm\", \"anio\"])"
   ]
  },
  {
   "cell_type": "code",
   "execution_count": 9,
   "id": "f89d9fc8",
   "metadata": {},
   "outputs": [
    {
     "data": {
      "text/html": [
       "<div>\n",
       "<style scoped>\n",
       "    .dataframe tbody tr th:only-of-type {\n",
       "        vertical-align: middle;\n",
       "    }\n",
       "\n",
       "    .dataframe tbody tr th {\n",
       "        vertical-align: top;\n",
       "    }\n",
       "\n",
       "    .dataframe thead th {\n",
       "        text-align: right;\n",
       "    }\n",
       "</style>\n",
       "<table border=\"1\" class=\"dataframe\">\n",
       "  <thead>\n",
       "    <tr style=\"text-align: right;\">\n",
       "      <th></th>\n",
       "      <th>mtm</th>\n",
       "      <th>anio</th>\n",
       "      <th>precio</th>\n",
       "    </tr>\n",
       "  </thead>\n",
       "  <tbody>\n",
       "    <tr>\n",
       "      <th>481120</th>\n",
       "      <td>0010103</td>\n",
       "      <td>1998</td>\n",
       "      <td>NaN</td>\n",
       "    </tr>\n",
       "    <tr>\n",
       "      <th>461213</th>\n",
       "      <td>0010103</td>\n",
       "      <td>1999</td>\n",
       "      <td>NaN</td>\n",
       "    </tr>\n",
       "    <tr>\n",
       "      <th>441306</th>\n",
       "      <td>0010103</td>\n",
       "      <td>2000</td>\n",
       "      <td>NaN</td>\n",
       "    </tr>\n",
       "    <tr>\n",
       "      <th>421399</th>\n",
       "      <td>0010103</td>\n",
       "      <td>2001</td>\n",
       "      <td>NaN</td>\n",
       "    </tr>\n",
       "    <tr>\n",
       "      <th>401492</th>\n",
       "      <td>0010103</td>\n",
       "      <td>2002</td>\n",
       "      <td>NaN</td>\n",
       "    </tr>\n",
       "  </tbody>\n",
       "</table>\n",
       "</div>"
      ],
      "text/plain": [
       "            mtm  anio  precio\n",
       "481120  0010103  1998     NaN\n",
       "461213  0010103  1999     NaN\n",
       "441306  0010103  2000     NaN\n",
       "421399  0010103  2001     NaN\n",
       "401492  0010103  2002     NaN"
      ]
     },
     "execution_count": 9,
     "metadata": {},
     "output_type": "execute_result"
    }
   ],
   "source": [
    "#primeras 5 filas\n",
    "df_prefinal.head(5)"
   ]
  },
  {
   "cell_type": "code",
   "execution_count": 10,
   "id": "31c6419f",
   "metadata": {},
   "outputs": [],
   "source": [
    "#Se filtran las filas con valores nulos\n",
    "final=df_prefinal[~pd.isnull(df_prefinal).any(axis=1)]"
   ]
  },
  {
   "cell_type": "code",
   "execution_count": 11,
   "id": "b6fed849",
   "metadata": {},
   "outputs": [
    {
     "data": {
      "text/html": [
       "<div>\n",
       "<style scoped>\n",
       "    .dataframe tbody tr th:only-of-type {\n",
       "        vertical-align: middle;\n",
       "    }\n",
       "\n",
       "    .dataframe tbody tr th {\n",
       "        vertical-align: top;\n",
       "    }\n",
       "\n",
       "    .dataframe thead th {\n",
       "        text-align: right;\n",
       "    }\n",
       "</style>\n",
       "<table border=\"1\" class=\"dataframe\">\n",
       "  <thead>\n",
       "    <tr style=\"text-align: right;\">\n",
       "      <th></th>\n",
       "      <th>mtm</th>\n",
       "      <th>anio</th>\n",
       "      <th>precio</th>\n",
       "    </tr>\n",
       "  </thead>\n",
       "  <tbody>\n",
       "    <tr>\n",
       "      <th>282050</th>\n",
       "      <td>0010103</td>\n",
       "      <td>2008</td>\n",
       "      <td>8600.0</td>\n",
       "    </tr>\n",
       "    <tr>\n",
       "      <th>262143</th>\n",
       "      <td>0010103</td>\n",
       "      <td>2009</td>\n",
       "      <td>9900.0</td>\n",
       "    </tr>\n",
       "    <tr>\n",
       "      <th>242236</th>\n",
       "      <td>0010103</td>\n",
       "      <td>2010</td>\n",
       "      <td>11100.0</td>\n",
       "    </tr>\n",
       "    <tr>\n",
       "      <th>222329</th>\n",
       "      <td>0010103</td>\n",
       "      <td>2011</td>\n",
       "      <td>12300.0</td>\n",
       "    </tr>\n",
       "    <tr>\n",
       "      <th>202422</th>\n",
       "      <td>0010103</td>\n",
       "      <td>2012</td>\n",
       "      <td>13600.0</td>\n",
       "    </tr>\n",
       "  </tbody>\n",
       "</table>\n",
       "</div>"
      ],
      "text/plain": [
       "            mtm  anio   precio\n",
       "282050  0010103  2008   8600.0\n",
       "262143  0010103  2009   9900.0\n",
       "242236  0010103  2010  11100.0\n",
       "222329  0010103  2011  12300.0\n",
       "202422  0010103  2012  13600.0"
      ]
     },
     "execution_count": 11,
     "metadata": {},
     "output_type": "execute_result"
    }
   ],
   "source": [
    "final.head(5)"
   ]
  },
  {
   "cell_type": "code",
   "execution_count": 12,
   "id": "39d70af7",
   "metadata": {},
   "outputs": [],
   "source": [
    "#Se eliminan duplicados\n",
    "final = final.drop_duplicates()"
   ]
  },
  {
   "cell_type": "code",
   "execution_count": 14,
   "id": "4a7d83fa",
   "metadata": {},
   "outputs": [
    {
     "name": "stdout",
     "output_type": "stream",
     "text": [
      "se creo\n",
      "se pasaron los datos\n"
     ]
    }
   ],
   "source": [
    "import mysql.connector\n",
    "# Conexión MySQL \n",
    "conection = mysql.connector.connect(user='root', host='localhost', password='tupassword', database='Acara',  auth_plugin='mysql_native_password')\n",
    "\n",
    "cursor1=conection.cursor()\n",
    "\n",
    "# Se crea la tabla\n",
    "cursor1.execute(\"CREATE TABLE IF NOT EXISTS acara_precios_mensual (mtm_id VARCHAR(255), anio INT, precio FLOAT, actualizacion timestamp);\")\n",
    "print(\"se creo la tabla\")\n",
    "\n",
    "# Se insertan los datos\n",
    "for index, row in final.iterrows():\n",
    "    cursor1.execute(\"INSERT INTO acara_precios_mensual (mtm_id, anio, precio, actualizacion) VALUES (%s, %s, %s, DATE(NOW()))\", (row['mtm'], row['anio'], row['precio']))\n",
    "\n",
    "conection.commit()\n",
    "print(\"se insertaron los datos\")\n",
    "cursor1.close()\n",
    "conection.close()\n"
   ]
  },
  {
   "cell_type": "code",
   "execution_count": null,
   "id": "42e916be",
   "metadata": {},
   "outputs": [],
   "source": []
  },
  {
   "cell_type": "code",
   "execution_count": null,
   "id": "86a807d3",
   "metadata": {},
   "outputs": [],
   "source": []
  }
 ],
 "metadata": {
  "kernelspec": {
   "display_name": "Python 3 (ipykernel)",
   "language": "python",
   "name": "python3"
  },
  "language_info": {
   "codemirror_mode": {
    "name": "ipython",
    "version": 3
   },
   "file_extension": ".py",
   "mimetype": "text/x-python",
   "name": "python",
   "nbconvert_exporter": "python",
   "pygments_lexer": "ipython3",
   "version": "3.9.12"
  }
 },
 "nbformat": 4,
 "nbformat_minor": 5
}
